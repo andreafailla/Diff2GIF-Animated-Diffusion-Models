{
 "cells": [
  {
   "cell_type": "markdown",
   "metadata": {
    "id": "RAOI3H8wFCbS"
   },
   "source": [
    "# Diff2GIF – Animated Diffusion Models\n",
    "### Create your own animated network visualization by exploiting a diffusion model!\n",
    "###### <b>Note</b>: consider using small networks (i.e. <= 300 nodes) to improve image readability \n",
    "###### Python >= 3.6"
   ]
  },
  {
   "cell_type": "code",
   "execution_count": 1,
   "metadata": {
    "id": "j2N60LLOckeT"
   },
   "outputs": [],
   "source": [
    "# create network\n",
    "import networkx as nx \n",
    "from diff2gif import Diff2GIF\n",
    "# network diffusion library\n",
    "#!pip3 install ndlib\n",
    "import ndlib.models.ModelConfig as mc \n",
    "import ndlib.models.epidemics as ep"
   ]
  },
  {
   "cell_type": "code",
   "execution_count": 2,
   "metadata": {
    "id": "wiru-leFiy-D"
   },
   "outputs": [],
   "source": [
    "# Network topology\n",
    "g = nx.barabasi_albert_graph(50, 2, seed=42)"
   ]
  },
  {
   "cell_type": "code",
   "execution_count": 3,
   "metadata": {
    "colab": {
     "base_uri": "https://localhost:8080/"
    },
    "id": "eQW3kt3LcsKn",
    "outputId": "2fd1751c-f476-4726-8b50-327ec1a3aa2f"
   },
   "outputs": [],
   "source": [
    "# Model selection\n",
    "model = ep.SIRModel(g) # check out other models at \n",
    "                       # https://ndlib.readthedocs.io/en/latest/index.html\n",
    "\n",
    "# Model Configuration\n",
    "cfg = mc.Configuration()\n",
    "cfg.add_model_parameter('beta', 0.4)\n",
    "cfg.add_model_parameter(\"gamma\", 0.1)\n",
    "cfg.add_model_parameter(\"fraction_infected\", 0.1)\n",
    "model.set_initial_status(cfg) "
   ]
  },
  {
   "cell_type": "code",
   "execution_count": 4,
   "metadata": {
    "id": "BzhQGLnh9AzC"
   },
   "outputs": [],
   "source": [
    "class Params:\n",
    "    model = model\n",
    "    n_iters = 20\n",
    "d2g = Diff2GIF(g, Params)\n",
    "d2g.make('mygif.gif')"
   ]
  },
  {
   "cell_type": "markdown",
   "metadata": {
    "id": "eoKE4VAdyyJ0"
   },
   "source": [
    "<img src=\"mygif.gif\">"
   ]
  },
  {
   "cell_type": "code",
   "execution_count": 5,
   "metadata": {
    "colab": {
     "base_uri": "https://localhost:8080/",
     "height": 1000
    },
    "id": "zHZvOUGkdVto",
    "outputId": "9e9ff3cc-9c8f-4b34-fbc6-97204bfb4925"
   },
   "outputs": [],
   "source": [
    "model = ep.SIRModel(g)\n",
    "cfg = mc.Configuration()\n",
    "cfg.add_model_parameter('beta', 0.4)\n",
    "cfg.add_model_parameter(\"gamma\", 0.1)\n",
    "cfg.add_model_parameter(\"fraction_infected\", 0.1)\n",
    "model.set_initial_status(cfg) \n",
    "\n",
    "class Params:\n",
    "    model = model\n",
    "    n_iters = 20\n",
    "\n",
    "    pos = nx.circular_layout(g)\n",
    "    \n",
    "    colors = { # check model.available_statuses for possible node statuses\n",
    "        \"Susceptible\": \"gray\",  \n",
    "        \"Infected\": \"#891414\",\n",
    "        \"Removed\": \"#2d0707\",  \n",
    "        \"edges\": \"#999999\",  \n",
    "    }\n",
    "    node_size = 200\n",
    "    alpha = 0.7\n",
    "    width = 0.1\n",
    "\n",
    "d2g = Diff2GIF(g, Params)\n",
    "# you can also change the snapshot duration\n",
    "d2g.make('mysecondgif.gif', snap_duration=0.1)"
   ]
  },
  {
   "cell_type": "code",
   "execution_count": 6,
   "metadata": {},
   "outputs": [],
   "source": [
    "# display GIF on Jupyter Notebook"
   ]
  },
  {
   "cell_type": "markdown",
   "metadata": {},
   "source": [
    "<img src=\"mysecondgif.gif\">"
   ]
  },
  {
   "cell_type": "code",
   "execution_count": null,
   "metadata": {},
   "outputs": [],
   "source": []
  }
 ],
 "metadata": {
  "colab": {
   "collapsed_sections": [],
   "name": "NetGIF.ipynb",
   "provenance": []
  },
  "kernelspec": {
   "display_name": "Python 3",
   "language": "python",
   "name": "python3"
  },
  "language_info": {
   "codemirror_mode": {
    "name": "ipython",
    "version": 3
   },
   "file_extension": ".py",
   "mimetype": "text/x-python",
   "name": "python",
   "nbconvert_exporter": "python",
   "pygments_lexer": "ipython3",
   "version": "3.8.8"
  }
 },
 "nbformat": 4,
 "nbformat_minor": 4
}
